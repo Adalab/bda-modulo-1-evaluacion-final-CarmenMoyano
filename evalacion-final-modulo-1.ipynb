{
 "cells": [
  {
   "cell_type": "code",
   "execution_count": 472,
   "metadata": {},
   "outputs": [],
   "source": [
    "# Crear la clase\n",
    "class TiendaOnline:\n",
    "# Constructor con los atributos: inventario (lista), cliente (dicionario).\n",
    "    def __init__(self):\n",
    "        self.inventario = [] # [{nombre: --- , precio: ---, cantidad: ---}, {nombre2: --- , precio2: ---, cantidad2: ---}]\n",
    "        self.clientes = {} # {nombre1: {--- , email:---, compras: []}, nombre2: {--- , email:---, compras: [] }}\n",
    "        self.ventas_totales = 0 \n",
    "\n",
    "# Métodos  prueba\n",
    "# Método agregar producto\n",
    "    def agregar_productos (self, nombre, precio, cantidad):           \n",
    "        # Recorre la lista del inventario y compara los nombres de los productos con el nombre proporcionado\n",
    "        for productos in self.inventario:\n",
    "            # Si el producto ya existe, actualiza la cantidad\n",
    "            if nombre.lower() == productos[\"nombre\"]:                                     \n",
    "                productos[\"precio\"] = precio\n",
    "                productos[\"cantidad\"] = cantidad\n",
    "                # Imprime y sale del bucle                \n",
    "                print(f\"El producto ya estaba en el inventario. Sus datos han sido actualizados:\\nNombre: {nombre.capitalize()}, Precio: ${precio}, Cantidad: {cantidad}\")\n",
    "                break\n",
    "        # Si no existe, se agrega un nuevo producto al inventario  \n",
    "        self.inventario.append({\"nombre\": nombre.lower(), \"precio\": precio, \"cantidad\": cantidad})\n",
    "        print(f\"El producto se ha añadido correctamente:\\nNombre: {nombre.capitalize()}, Precio: ${precio}, Cantidad {cantidad}\")                  \n",
    "    \n",
    "\n",
    "# Métodos ver inventario              \n",
    "    def ver_inventario (self):    \n",
    "        # Recorre el inventario\n",
    "        for productos in self.inventario:\n",
    "            # Coge los valores del producto\n",
    "            nombre = productos.get(\"nombre\")\n",
    "            precio = productos.get(\"precio\" )\n",
    "            cantidad = productos.get(\"cantidad\")\n",
    "            # Imprime los detalles                \n",
    "            print(f\"Nombre: {nombre.capitalize()}, Precio: ${precio}, Cantidad: {cantidad}\")\n",
    "\n",
    "        \n",
    "# Métodos buscar producto\n",
    "    def buscar_producto(self, nombre):       \n",
    "        # Recorre el inventario\n",
    "        for productos in self.inventario:\n",
    "            # Compara los nombres de los productos con el nombre proporcionado\n",
    "            if productos[\"nombre\"] == nombre.lower():\n",
    "                # Si se encuentra el producto, imprime sus detalles\n",
    "                precio = productos.get(\"precio\")\n",
    "                cantidad = productos.get(\"cantidad\")\n",
    "                print(f\"Nombre: {nombre.capitalize()}, Precio: ${precio}, Cantidad: {cantidad}\")\n",
    "                break                                   \n",
    "        # El producto no esta en el inventario\n",
    "        print(f\"El producto {nombre.capitalize()} no se encuentra en el inventario\")\n",
    "\n",
    "\n",
    "# Método actualizar stock\n",
    "    def actualizar_stock(self, nombre, cantidad):\n",
    "        # Recorre el inventario\n",
    "        for productos in self.inventario:\n",
    "            # Busca el producto por nombre\n",
    "            if nombre.lower() == productos.get(\"nombre\"):\n",
    "                # Agrega cantidad\n",
    "                if cantidad > 0:            \n",
    "                    productos[\"cantidad\"] = productos[\"cantidad\"] + cantidad\n",
    "                    print(f\"Se han añadido {cantidad} unidades al stock. Datos actualizados:\\nNombre: {nombre.capitalize()}, Cantidad: {cantidad}\")\n",
    "                    break\n",
    "                # Quita cantidad\n",
    "                elif cantidad < 0:\n",
    "                    productos[\"cantidad\"] = productos[\"cantidad\"] - cantidad\n",
    "                    print(f\"Se han quitado unidades {cantidad} al stock. Datos actualizados:\\nNombre: {nombre.capitalize()}, Cantidad: {cantidad}\")\n",
    "                    break\n",
    "                # Si es 0\n",
    "                else:\n",
    "                    print(f\"Has introducido {cantidad}. No se han efectuado cambios en el stock.Los datos son:\\nNombre: {nombre.capitalize()}, Cantidad: {cantidad}\")\n",
    "                    break           \n",
    "        # El producto no esta en el inventario\n",
    "        print(f\"El producto no esta en el inventario\")\n",
    "\n",
    "# Método eliminar producto\n",
    "    def eliminar_producto (self, nombre):\n",
    "        # Recorre el inventario\n",
    "        for productos in self.inventario:\n",
    "            # Busca el producto por nombre\n",
    "            if nombre.lower() == productos.get(\"nombre\"):\n",
    "                # Elimina el producto del inventario\n",
    "                productos.clear()\n",
    "                print(f\"El producto {nombre.capitalize()}, se ha eliminado con exito\")\n",
    "                break\n",
    "        # El producto no esta en el inventario\n",
    "        print(f\"El producto no se encuentra en el stock\")\n",
    "\n",
    "# Método calcular valor:\n",
    "    def calcular_valor_inventario (self):       \n",
    "        valor_total_inventario = []\n",
    "        # Recorre el inventario\n",
    "        for productos in self.inventario:            \n",
    "            precio = productos.get(\"precio\")\n",
    "            cantidad = productos.get(\"cantidad\")\n",
    "            # Calcula el valor de cada producto\n",
    "            resultado = precio * cantidad\n",
    "            valor_total_inventario.append(resultado)\n",
    "        # Suma los valores de todos producto\n",
    "        total = sum(valor_total_inventario)\n",
    "        print(f\"el total es {total}\")\n",
    "     \n",
    "\n",
    "# Método realizar compra\n",
    "    def realizar_compra(self):\n",
    "        self.cesta_compra = []\n",
    "        # Muestra el inventario\n",
    "        TiendaOnline.ver_inventario(self)\n",
    "        # Permite al cliente realizar múltiples compras        \n",
    "        while True:      \n",
    "            producto_cliente = input(\"¿Que producto quiere comprar? Para Finalizar pulse S \").lower()\n",
    "            # Sale del proceso de compra\n",
    "            if producto_cliente == \"s\":\n",
    "                break\n",
    "                  \n",
    "            # Recorre el inventario \n",
    "            producto_encontrado = False             \n",
    "            for productos in self.inventario:                 \n",
    "                # Comprueba que tengamos el producto\n",
    "                if  productos[\"nombre\"] == producto_cliente.lower(): \n",
    "                    producto_encontrado = True                                                                  \n",
    "                    cantidad_cliente = int(input(\"¿Indique las unidades que quiere comprar?\"))\n",
    "\n",
    "                    # Comprueba si tenemos stock                   \n",
    "                    if productos[\"cantidad\"] <= 0 :\n",
    "                        print(\"Lo sentimos, no tenemos Stock del producto seleccionado\")\n",
    "                        break\n",
    "\n",
    "                    # Comprueba si tenemos suficiente stock. Registra los productos seleccionados en un carrito y actualiza el inventario\n",
    "                    elif productos[\"cantidad\"] >= cantidad_cliente:\n",
    "                        producto = productos[\"nombre\"]  \n",
    "                        precio = productos[\"precio\"]                             \n",
    "                        total = productos[\"precio\"] * cantidad_cliente\n",
    "                        self.cesta_compra.append({\"nombre\": producto.capitalize(), \"precio\": productos[\"precio\"], \"cantidad\": cantidad_cliente, \"total\": total})\n",
    "                        productos[\"cantidad\"] -= cantidad_cliente     \n",
    "                        print(f\"Has añadido {cantidad_cliente} unidades del producto {producto_cliente.capitalize()} al carrito de la compra\") \n",
    "                        break\n",
    "\n",
    "                    # Si no tenemos suficiente stock dice cuanto hay             \n",
    "                    elif 0 < cantidad_cliente > productos[\"cantidad\"] :  \n",
    "                        cantidad_stock = productos[\"cantidad\"]                  \n",
    "                        print (f\"Lo sentimos, del producto seleccionado {producto_cliente.capitalize()} solo tenemos {cantidad_stock}unidades\")\n",
    "\n",
    "            # El producto no esta en el inventario   \n",
    "            if not producto_encontrado:\n",
    "                print(f\"El producto no esta en el inventario\")\n",
    "             \n",
    "        # Si sale del proceso pero hay productos en la cesta    \n",
    "        if self.cesta_compra:\n",
    "            total = sum(producto[\"total\"] for producto in self.cesta_compra)\n",
    "            # Saca la información del carrito\n",
    "            for producto in self.cesta_compra:\n",
    "                nombre = producto[\"nombre\"]\n",
    "                precio = producto[\"precio\"]\n",
    "                cantidad = producto[\"cantidad\"]\n",
    "                total_prod = producto[\"total\"]                          \n",
    "                print(f\"Nombre {nombre}, precio/ud ${precio}, cantidad {cantidad} precio total ${total_prod}\\nTotal de la compra ${total}\")\n",
    "            print(f\"Total de la compra {total}\")\n",
    "        \n",
    "        # Si sale del proceso pero no hay productos en la cesta                  \n",
    "        else:            \n",
    "            print(f\"No tiene productos en el carrito\")\n",
    "            \n",
    "        print(f\"gracias y hasta pronto\")\n",
    "            \n",
    "# Procesar pago\n",
    "    def procesar_pago(self):     \n",
    "        total = sum(producto[\"total\"] for producto in self.cesta_compra)\n",
    "        print(f\"El total de su compra es {total}\")\n",
    "        while True:\n",
    "            cantidad = int(input(\"Introduce la cantidad\"))\n",
    "            if total == cantidad:\n",
    "                print(f\"Cantidad exacta. Gracias por su compra, esperamos verle pronto\")\n",
    "                break\n",
    "            elif total < cantidad:\n",
    "                vuelta = cantidad - total\n",
    "                print(f\"Cantidad correcta su vuelta es de ${vuelta}. Gracias por su compra, esperamos verle pronto\")\n",
    "                break\n",
    "            else:\n",
    "                print(f\"Cantidad insuficiente, debe de introducir mas dinero\")        \n",
    "\n",
    "               \n",
    "# Agregar cliente      \n",
    "    def agregar_cliente(self, nombre, email):\n",
    "        # Agrega un cliente al diccionario de clientes con su nombre y correo electrónico.\n",
    "        self.clientes[nombre.lower()] = ({\"email\": email, \"compras\": []})\n",
    "        print(f\"El cliente {nombre.capitalize()} con email {email} se ha añadido correctamente\")\n",
    "\n",
    "# Ver clientes \n",
    "    def ver_clientes(self):\n",
    "        # Recorre la base de datos de clientes\n",
    "        for nombre, datos in self.clientes.items():             \n",
    "            email = datos[\"email\"]  \n",
    "            # Imprime los detalles de cada cliente (nombre y correo electrónico).         \n",
    "            print(f\"clientes\\nNombre: {nombre.capitalize()}, Email: {email}\")\n",
    "\n",
    "# Registrar compras\n",
    "    def registrar_compra(self, nombre_cliente, carrito): \n",
    "        # Busca al cliente en el diccionario de clientes   \n",
    "        if nombre_cliente.lower() not in self.clientes:  \n",
    "            # muestra que no se puede realizar la acción por que el cliente no está      \n",
    "            print(f\"No se puede realizar la acción, {nombre_cliente} no figura como cliente\")  \n",
    "            return \n",
    "        # Recorre el carrito        \n",
    "        compra = [compras[\"precio\"] * compras[\"cantidad\"] for compras in carrito.values() ]\n",
    "        # Calcula el total de la compra y registra la compra, incluyendo los productos y el total.\n",
    "        total_compra = sum(compra)\n",
    "        # Añade la info del carrito a las compras del cliente \n",
    "        self.clientes[nombre_cliente][\"compras\"].append({\"carrito\": carrito, \"total\": total_compra})\n",
    "        # Actualiza las ventas totales\n",
    "        self.ventas_totales += total_compra\n",
    "        print(f\"La compra del cliente {nombre_cliente} con importe total de ${total_compra} se ha efectuado correctamente\")\n",
    "\n",
    "                                                \n"
   ]
  },
  {
   "cell_type": "code",
   "execution_count": 473,
   "metadata": {},
   "outputs": [],
   "source": [
    "mi_tienda = TiendaOnline ()"
   ]
  },
  {
   "cell_type": "code",
   "execution_count": 474,
   "metadata": {},
   "outputs": [
    {
     "name": "stdout",
     "output_type": "stream",
     "text": [
      "El cliente Cliente2 con email cliente1@gmail.com se ha añadido correctamente\n"
     ]
    }
   ],
   "source": [
    "mi_tienda.agregar_cliente(\"cliente2\" , \"cliente1@gmail.com\")"
   ]
  },
  {
   "cell_type": "code",
   "execution_count": 475,
   "metadata": {},
   "outputs": [],
   "source": [
    "carrito_cliente1 = {\"Camisa\": {\"precio\": 20, \"cantidad\": 3}}"
   ]
  },
  {
   "cell_type": "code",
   "execution_count": 478,
   "metadata": {},
   "outputs": [
    {
     "name": "stdout",
     "output_type": "stream",
     "text": [
      "La compra del cliente cliente2 con importe total de $60 se ha efectuado correctamente\n"
     ]
    }
   ],
   "source": [
    "mi_tienda.registrar_compra(\"cliente2\", carrito_cliente1)"
   ]
  },
  {
   "cell_type": "code",
   "execution_count": 477,
   "metadata": {},
   "outputs": [
    {
     "name": "stdout",
     "output_type": "stream",
     "text": [
      "clientes\n",
      "Nombre: Cliente2, Email: cliente1@gmail.com\n"
     ]
    }
   ],
   "source": [
    "mi_tienda.ver_clientes()"
   ]
  },
  {
   "cell_type": "code",
   "execution_count": 362,
   "metadata": {},
   "outputs": [
    {
     "name": "stdout",
     "output_type": "stream",
     "text": [
      "El producto se ha añadido correctamente:\n",
      "Nombre: Pantalones, Precio: $50, Cantidad 5\n",
      "El producto se ha añadido correctamente:\n",
      "Nombre: Camisa, Precio: $50, Cantidad 10\n"
     ]
    }
   ],
   "source": [
    "mi_tienda.agregar_productos(\"pantalones\", 50, 5)\n",
    "mi_tienda.agregar_productos(\"camisa\", 50,10)"
   ]
  },
  {
   "cell_type": "code",
   "execution_count": 363,
   "metadata": {},
   "outputs": [
    {
     "name": "stdout",
     "output_type": "stream",
     "text": [
      "Nombre: Pantalones, Precio: $50, Cantidad: 5\n",
      "Nombre: Camisa, Precio: $50, Cantidad: 10\n"
     ]
    }
   ],
   "source": [
    "mi_tienda.ver_inventario()"
   ]
  },
  {
   "cell_type": "code",
   "execution_count": 368,
   "metadata": {},
   "outputs": [
    {
     "name": "stdout",
     "output_type": "stream",
     "text": [
      "Nombre: Pantalones, Precio: $50, Cantidad: 5\n",
      "Nombre: Camisa, Precio: $50, Cantidad: 10\n",
      "Has añadido 2 unidades del producto Pantalones al carrito de la compra\n",
      "Nombre Pantalones, precio/ud $50, cantidad 2 precio total $100\n",
      "Total de la compra $100\n",
      "Total de la compra 100\n",
      "gracias y hasta pronto\n"
     ]
    }
   ],
   "source": [
    "mi_tienda.realizar_compra()"
   ]
  },
  {
   "cell_type": "code",
   "execution_count": 369,
   "metadata": {},
   "outputs": [
    {
     "name": "stdout",
     "output_type": "stream",
     "text": [
      "El total de su compra es 100\n",
      "Cantidad insuficiente, debe de introducir mas dinero\n",
      "Cantidad insuficiente, debe de introducir mas dinero\n",
      "Cantidad correcta su vuelta es de $50. Gracias por su compra, esperamos verle pronto\n"
     ]
    }
   ],
   "source": [
    "mi_tienda.procesar_pago()"
   ]
  },
  {
   "cell_type": "code",
   "execution_count": 366,
   "metadata": {},
   "outputs": [
    {
     "name": "stdout",
     "output_type": "stream",
     "text": [
      "Nombre: Camisa, Precio: $50, Cantidad: 10\n",
      "El producto Camisa no se encuentra en el inventario\n"
     ]
    }
   ],
   "source": [
    "mi_tienda.buscar_producto(\"camisa\")"
   ]
  },
  {
   "cell_type": "code",
   "execution_count": 367,
   "metadata": {},
   "outputs": [],
   "source": [
    "inventario = [{'nombre':'Camisa','precio':20,'cantidad':40}] #,{'nombre':'Pantalón','precio':30,'cantidad':30}\n",
    "clientes = {'Cliente1': {'email':'cliente1@email.com','compras': []}} #,'Cliente2': {'email':'cliente2@email.com','compras': []}}"
   ]
  }
 ],
 "metadata": {
  "kernelspec": {
   "display_name": "base",
   "language": "python",
   "name": "python3"
  },
  "language_info": {
   "codemirror_mode": {
    "name": "ipython",
    "version": 3
   },
   "file_extension": ".py",
   "mimetype": "text/x-python",
   "name": "python",
   "nbconvert_exporter": "python",
   "pygments_lexer": "ipython3",
   "version": "3.11.7"
  }
 },
 "nbformat": 4,
 "nbformat_minor": 2
}
