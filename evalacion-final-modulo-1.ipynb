{
 "cells": [
  {
   "cell_type": "code",
   "execution_count": 833,
   "metadata": {},
   "outputs": [],
   "source": [
    "# Crear la clase\n",
    "class TiendaOnline:\n",
    "# Constructor con los atributos: inventario (lista), cliente (dicionario).\n",
    "    def __init__(self):\n",
    "        self.inventario = [] # [{nombre: --- , precio: ---, cantidad: ---}, {nombre2: --- , precio2: ---, cantidad2: ---}]\n",
    "        self.clientes = {} # {nombre1: {--- , email:---, compras: []}, nombre2: {--- , email:---, compras: [] }}\n",
    "        self.ventas_totales = 0 \n",
    "\n",
    "# Métodos \n",
    "# Método agregar producto\n",
    "    def agregar_productos (self, nombre, precio, cantidad):\n",
    "            #comprobamos si la lista está vacía: \n",
    "            if self.inventario != []: \n",
    "                # Si no esta vacía recorremos los diccionarios\n",
    "                for dic in self.inventario:\n",
    "                    # Buscamos coincidencias del nombre en los valores del diccionario\n",
    "                    if nombre in dic.values():\n",
    "                        # Si las tenemos, sacamos el indice del diccionario\n",
    "                        indice = self.inventario.index(dic)\n",
    "                        # Actualizamos la lista a través del indice actualizando los valores\n",
    "                        self.inventario[indice] = {\"nombre\":nombre, \"precio\": precio, \"cantidad\": cantidad}                     \n",
    "                        return print(f\"El producto ya estaba en el inventario. Sus datos han sido actualizados:\\nNombre: {nombre}\\nPrecio: {precio} €\\nCantidad: {cantidad}\")\n",
    "                    else:\n",
    "                        self.inventario.append({\"nombre\":nombre, \"precio\": precio, \"cantidad\": cantidad})\n",
    "                        return print(f\"El producto se ha añadido correctamente:\\nNombre: {nombre}\\nPrecio: {precio} €\\nCantidad {cantidad}\")                  \n",
    "            else:             \n",
    "                self.inventario.append({\"nombre\":nombre, \"precio\": precio, \"cantidad\": cantidad})\n",
    "                return print(f\"El producto se ha añadido correctamente:\\nNombre: {nombre}\\nPrecio: {precio} €\\nCantidad {cantidad}\")\n",
    "\n",
    "  # Métodos ver inventario              \n",
    "\n",
    "    \n",
    "\n",
    "                    \n",
    "                                        \n"
   ]
  },
  {
   "cell_type": "code",
   "execution_count": 843,
   "metadata": {},
   "outputs": [],
   "source": [
    "mi_tienda = TiendaOnline ()"
   ]
  },
  {
   "cell_type": "code",
   "execution_count": 851,
   "metadata": {},
   "outputs": [
    {
     "name": "stdout",
     "output_type": "stream",
     "text": [
      "El producto se ha añadido correctamente:\n",
      "Nombre: Cazadora\n",
      "Precio: 10€\n",
      "Cantidad 40\n"
     ]
    }
   ],
   "source": [
    "mi_tienda.agregar_productos(\"Cazadora\", 10, 40)"
   ]
  },
  {
   "cell_type": "code",
   "execution_count": 852,
   "metadata": {},
   "outputs": [
    {
     "data": {
      "text/plain": [
       "{'inventario': [{'nombre': 'cazadora', 'precio': 20, 'cantidad': 5},\n",
       "  {'nombre': 'Pantalón', 'precio': 30, 'cantidad': 30},\n",
       "  {'nombre': 'Camisa', 'precio': 20, 'cantidad': 40},\n",
       "  {'nombre': 'Cazadora', 'precio': 10, 'cantidad': 40}],\n",
       " 'clientes': {},\n",
       " 'ventas_totales': 0}"
      ]
     },
     "execution_count": 852,
     "metadata": {},
     "output_type": "execute_result"
    }
   ],
   "source": [
    "mi_tienda.__dict__"
   ]
  },
  {
   "cell_type": "code",
   "execution_count": 838,
   "metadata": {},
   "outputs": [],
   "source": [
    "inventario = [{'nombre':'Camisa','precio':20,'cantidad':40}] #,{'nombre':'Pantalón','precio':30,'cantidad':30}\n",
    "clientes = {'Cliente1': {'email':'cliente1@email.com','compras': []}} #,'Cliente2': {'email':'cliente2@email.com','compras': []}}"
   ]
  }
 ],
 "metadata": {
  "kernelspec": {
   "display_name": "base",
   "language": "python",
   "name": "python3"
  },
  "language_info": {
   "codemirror_mode": {
    "name": "ipython",
    "version": 3
   },
   "file_extension": ".py",
   "mimetype": "text/x-python",
   "name": "python",
   "nbconvert_exporter": "python",
   "pygments_lexer": "ipython3",
   "version": "3.11.7"
  }
 },
 "nbformat": 4,
 "nbformat_minor": 2
}
