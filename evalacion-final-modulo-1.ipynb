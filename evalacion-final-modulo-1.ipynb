{
 "cells": [
  {
   "cell_type": "code",
   "execution_count": 111,
   "metadata": {},
   "outputs": [],
   "source": [
    "# Crear la clase\n",
    "class TiendaOnline:\n",
    "# Constructor con los atributos: inventario (lista), cliente (dicionario).\n",
    "    def __init__(self):\n",
    "        self.inventario = [] # [{nombre: --- , precio: ---, cantidad: ---}, {nombre2: --- , precio2: ---, cantidad2: ---}]\n",
    "        self.clientes = {} # {nombre1: {--- , email:---, compras: []}, nombre2: {--- , email:---, compras: [] }}\n",
    "        self.ventas_totales = 0 \n",
    "\n",
    "# Métodos  prueba\n",
    "# Método agregar producto\n",
    "    def agregar_productos (self, nombre, precio, cantidad):           \n",
    "        # Recorre la lista del inventario y compara los nombres de los productos con el nombre proporcionado\n",
    "        for productos in self.inventario:\n",
    "            # Si el producto ya existe, actualiza la cantidad\n",
    "            if nombre.lower() == productos[\"nombre\"]:                                     \n",
    "                productos[\"precio\"] = precio\n",
    "                productos[\"cantidad\"] = cantidad\n",
    "                # Imprime y sale del bucle                \n",
    "                print(f\"El producto ya estaba en el inventario. Sus datos han sido actualizados:\\nNombre: {nombre.capitalize()}, Precio: ${precio}, Cantidad: {cantidad}\")\n",
    "                break\n",
    "        # Si no existe, se agrega un nuevo producto al inventario  \n",
    "        self.inventario.append({\"nombre\": nombre.lower(), \"precio\": precio, \"cantidad\": cantidad})\n",
    "        print(f\"El producto se ha añadido correctamente:\\nNombre: {nombre.capitalize()}, Precio: ${precio}, Cantidad {cantidad}\")                  \n",
    "    \n",
    "\n",
    "# Métodos ver inventario              \n",
    "    def ver_inventario (self):    \n",
    "        # Recorre el inventario\n",
    "        for productos in self.inventario:\n",
    "            # Coge los valores del producto\n",
    "            nombre = productos.get(\"nombre\")\n",
    "            precio = productos.get(\"precio\" )\n",
    "            cantidad = productos.get(\"cantidad\")\n",
    "            # Imprime los detalles                \n",
    "            print(f\"Nombre: {nombre.capitalize()}, Precio: ${precio}, Cantidad: {cantidad}\")\n",
    "\n",
    "        \n",
    "# Métodos buscar producto\n",
    "    def buscar_producto(self, nombre):       \n",
    "        # Recorre el inventario\n",
    "        for productos in self.inventario:\n",
    "            # Compara los nombres de los productos con el nombre proporcionado\n",
    "            if productos[\"nombre\"] == nombre.lower():\n",
    "                # Si se encuentra el producto, imprime sus detalles\n",
    "                precio = productos.get(\"precio\")\n",
    "                cantidad = productos.get(\"cantidad\")\n",
    "                print(f\"Nombre: {nombre.capitalize()}, Precio: ${precio}, Cantidad: {cantidad}\")\n",
    "                break                                   \n",
    "        # El producto no esta en el inventario\n",
    "        print(f\"El producto {nombre.capitalize()} no se encuentra en el inventario\")\n",
    "\n",
    "\n",
    "# Método actualizar stock\n",
    "    def actualizar_stock(self, nombre, cantidad):\n",
    "        # Recorre el inventario\n",
    "        for productos in self.inventario:\n",
    "            # Busca el producto por nombre\n",
    "            if nombre.lower() == productos.get(\"nombre\"):\n",
    "                # Agrega cantidad\n",
    "                if cantidad > 0:            \n",
    "                    productos[\"cantidad\"] = productos[\"cantidad\"] + cantidad\n",
    "                    print(f\"Se han añadido {cantidad} unidades al stock. Datos actualizados:\\nNombre: {nombre.capitalize()}, Cantidad: {cantidad}\")\n",
    "                    break\n",
    "                # Quita cantidad\n",
    "                elif cantidad < 0:\n",
    "                    productos[\"cantidad\"] = productos[\"cantidad\"] - cantidad\n",
    "                    print(f\"Se han quitado unidades {cantidad} al stock. Datos actualizados:\\nNombre: {nombre.capitalize()}, Cantidad: {cantidad}\")\n",
    "                    break\n",
    "                # Si es 0\n",
    "                else:\n",
    "                    print(f\"Has introducido {cantidad}. No se han efectuado cambios en el stock.Los datos son:\\nNombre: {nombre.capitalize()}, Cantidad: {cantidad}\")\n",
    "                    break           \n",
    "        # El producto no esta en el inventario\n",
    "        print(f\"El producto no esta en el inventario\")\n",
    "\n",
    "# Método eliminar producto\n",
    "    def eliminar_producto (self, nombre):\n",
    "        # Recorre el inventario\n",
    "        for productos in self.inventario:\n",
    "            # Busca el producto por nombre\n",
    "            if nombre.lower() == productos.get(\"nombre\"):\n",
    "                # Elimina el producto del inventario\n",
    "                productos.clear()\n",
    "                print(f\"El producto {nombre.capitalize()}, se ha eliminado con exito\")\n",
    "                break\n",
    "        # El producto no esta en el inventario\n",
    "        print(f\"El producto no se encuentra en el stock\")\n",
    "\n",
    "# Método calcular valor:\n",
    "    def calcular_valor_inventario (self):       \n",
    "        valor_total_inventario = []\n",
    "        # Recorre el inventario\n",
    "        for productos in self.inventario:            \n",
    "            precio = productos.get(\"precio\")\n",
    "            cantidad = productos.get(\"cantidad\")\n",
    "            # Calcula el valor de cada producto\n",
    "            resultado = precio * cantidad\n",
    "            valor_total_inventario.append(resultado)\n",
    "        # Suma los valores de todos producto\n",
    "        total = sum(valor_total_inventario)\n",
    "        print(f\"el total es {total}\")\n",
    "     \n",
    "\n",
    "# Método realizar compra\n",
    "    def realizar_compra(self):\n",
    "        cesta_compra = []\n",
    "        # Muestra el inventario\n",
    "        TiendaOnline.ver_inventario(self)\n",
    "        # Permite al cliente realizar múltiples compras        \n",
    "        while True:      \n",
    "            producto_cliente = input(\"¿Que producto quiere comprar? Para salir pulse S \").lower()\n",
    "            \n",
    "            # Recorre el inventario \n",
    "            # producto_en_inventario = False               \n",
    "            for productos in self.inventario:\n",
    "                # Comprueba que tengamos el producto\n",
    "                if  productos[\"nombre\"] == producto_cliente.lower():    \n",
    "                    # producto_en_inventario = True                                             \n",
    "                    # Comprueba si tenemos suficiente stock. Registra los productos seleccionados en un carrito y actualiza el inventario\n",
    "                    cantidad_cliente = int(input(\"¿Indique las unidades que quiere comprar?\"))\n",
    "                    # Comprueba si tenemos stock                     \n",
    "                    if productos[\"cantidad\"] <= 0 :\n",
    "                        print(f\"Lo sentimos, no tenemos Stock del producto seleccionado\")\n",
    "                        break                            \n",
    "                    elif productos[\"cantidad\"] >= cantidad_cliente:\n",
    "                        producto = productos[\"nombre\"]  \n",
    "                        precio = productos[\"precio\"]                             \n",
    "                        total = productos[\"precio\"] * cantidad_cliente\n",
    "                        cesta_compra.append({\"nombre\": producto.capitalize(), \"precio\": precio, \"cantidad\": cantidad_cliente, \"total\": total})\n",
    "                        productos[\"cantidad\"] -= cantidad_cliente\n",
    "                        print(f\"Has añadido {cantidad_cliente} unidades del producto {producto_cliente.capitalize()} al carrito de la compra\\nEl total la compra es de $ {total}\")\n",
    "                        break                 \n",
    "                    # Si no tenemos suficiente stock dice cuanto hay             \n",
    "                    elif 0 < cantidad_cliente > productos[\"cantidad\"] :  \n",
    "                        cantidad_stock = productos[\"cantidad\"]                  \n",
    "                        print(f\"Lo sentimos, del producto seleccionado {producto_cliente.capitalize()} solo tenemos {cantidad_stock}unidades\")\n",
    "                        break\n",
    "                    else:\n",
    "                        print(f\"La cantidad introducida no es correcta\")\n",
    "                        break\n",
    "                    \n",
    "                else:\n",
    "                    print(f\"El producto no esta en el inventario\")\n",
    "                    break\n",
    "                    \n",
    "            # permite al cliente seguir comprando o finalizar su compra\n",
    "                \n",
    "            # elif cesta_compra == []:\n",
    "            #     print(f\"gracias y hasta pronto\")\n",
    "            # else:\n",
    "            #     for datos_cesta in cesta_compra:\n",
    "            #         nombre_cesta = datos_cesta.get(\"nombre\")\n",
    "            #         precio_cesta = datos_cesta.get(\"precio\")\n",
    "            #         cantidad_cesta = datos_cesta.get(\"cantidad\")\n",
    "            #         total_cesta = datos_cesta.get(\"total\")\n",
    "            #         total_compra = sum(total_cesta)\n",
    "            #         print (f\"Su compra\\n {nombre_cesta.capitalize()}, {precio_cesta}, ${cantidad_cesta} {total_cesta} \")\n",
    "            #     print(f\"El total de su compra es {total_compra}\")\n",
    "        #     #     break\n",
    "        # siguiente_paso = input(\"Si desea seguir comprando pulse 1, para finalizar su compra pulse 2: \")\n",
    "        # if siguiente_paso == \"2\":\n",
    "        #     for producto in cesta_compra:\n",
    "        #         nombre = producto[\"nombre\"]\n",
    "        #         precio = producto[\"precio\"]\n",
    "        #         cantidad = producto[\"cantidad\"]\n",
    "        #         total = sum(producto[\"total\"])                \n",
    "        #     print(f\"gracias por su compra. El estado de su carrito es:\\n nombre {nombre}, precio/ud ${precio}, cantidad {cantidad} precio total {total}\")                    \n",
    "                       \n",
    "        # else:\n",
    "        #     print(f\"gracias y hasta pronto\")\n",
    "            \n",
    "# Procesar pago\n",
    "    def procesar_pago(self):\n",
    "        cesta_compra = [{\"nombre\": \"pantalones\" , \"precio\": 50, \"cantidad\": 5}, {\"nombre2\": \"camisa\" , \"precio2\": 50, \"cantidad2\": 10}]\n",
    "\n",
    "               \n",
    "# Agregar cliente      \n",
    "    def agregar_cliente(self, nombre, email):\n",
    "        # Agrega un cliente al diccionario de clientes con su nombre y correo electrónico.\n",
    "        self.clientes[nombre] = ({\"email\": email, \"compras\": []})\n",
    "        print(f\"El cliente {nombre.capitalize()} con email {email} se ha añadido correctamente\")\n",
    "\n",
    "# Ver clientes \n",
    "    def ver_clientes(self):\n",
    "        for nombre, datos in self.clientes.items():             \n",
    "            email = datos[\"email\"]           \n",
    "            print(f\"clientes\\nNombre: {nombre.capitalize()}, Email: {email}\")\n"
   ]
  },
  {
   "cell_type": "code",
   "execution_count": 112,
   "metadata": {},
   "outputs": [],
   "source": [
    "mi_tienda = TiendaOnline ()"
   ]
  },
  {
   "cell_type": "code",
   "execution_count": 113,
   "metadata": {},
   "outputs": [
    {
     "name": "stdout",
     "output_type": "stream",
     "text": [
      "El cliente Juan con email juan@gmail.com se ha añadido correctamente\n"
     ]
    }
   ],
   "source": [
    "mi_tienda.agregar_cliente(\"juan\" , \"juan@gmail.com\")"
   ]
  },
  {
   "cell_type": "code",
   "execution_count": 114,
   "metadata": {},
   "outputs": [
    {
     "name": "stdout",
     "output_type": "stream",
     "text": [
      "clientes\n",
      "Nombre: Juan, Email: juan@gmail.com\n"
     ]
    }
   ],
   "source": [
    "mi_tienda.ver_clientes()"
   ]
  },
  {
   "cell_type": "code",
   "execution_count": 83,
   "metadata": {},
   "outputs": [
    {
     "name": "stdout",
     "output_type": "stream",
     "text": [
      "El producto se ha añadido correctamente:\n",
      "Nombre: Pantalones, Precio: $50, Cantidad 5\n",
      "El producto se ha añadido correctamente:\n",
      "Nombre: Camisa, Precio: $50, Cantidad 10\n"
     ]
    }
   ],
   "source": [
    "mi_tienda.agregar_productos(\"pantalones\", 50, 5)\n",
    "mi_tienda.agregar_productos(\"camisa\", 50,10)"
   ]
  },
  {
   "cell_type": "code",
   "execution_count": 84,
   "metadata": {},
   "outputs": [
    {
     "name": "stdout",
     "output_type": "stream",
     "text": [
      "Nombre: Pantalones, Precio: $50, Cantidad: 5\n",
      "Nombre: Camisa, Precio: $50, Cantidad: 10\n"
     ]
    }
   ],
   "source": [
    "mi_tienda.ver_inventario()"
   ]
  },
  {
   "cell_type": "code",
   "execution_count": 85,
   "metadata": {},
   "outputs": [
    {
     "name": "stdout",
     "output_type": "stream",
     "text": [
      "Nombre: Pantalones, Precio: $50, Cantidad: 5\n",
      "Nombre: Camisa, Precio: $50, Cantidad: 10\n",
      "El producto no esta en el inventario\n"
     ]
    },
    {
     "ename": "ValueError",
     "evalue": "invalid literal for int() with base 10: 'pantalones'",
     "output_type": "error",
     "traceback": [
      "\u001b[1;31m---------------------------------------------------------------------------\u001b[0m",
      "\u001b[1;31mValueError\u001b[0m                                Traceback (most recent call last)",
      "Cell \u001b[1;32mIn[85], line 1\u001b[0m\n\u001b[1;32m----> 1\u001b[0m mi_tienda\u001b[38;5;241m.\u001b[39mrealizar_compra()\n",
      "Cell \u001b[1;32mIn[81], line 124\u001b[0m, in \u001b[0;36mTiendaOnline.realizar_compra\u001b[1;34m(self)\u001b[0m\n\u001b[0;32m    119\u001b[0m     \u001b[38;5;28;01mbreak\u001b[39;00m   \n\u001b[0;32m    120\u001b[0m     \u001b[38;5;66;03m# producto_en_inventario = True                                             \u001b[39;00m\n\u001b[0;32m    121\u001b[0m     \u001b[38;5;66;03m# Comprueba si tenemos suficiente stock. Registra los productos seleccionados en un carrito y actualiza el inventario\u001b[39;00m\n\u001b[0;32m    122\u001b[0m \u001b[38;5;66;03m# Comprueba si tenemos stock                     \u001b[39;00m\n\u001b[0;32m    123\u001b[0m \u001b[38;5;28;01melse\u001b[39;00m:\n\u001b[1;32m--> 124\u001b[0m     cantidad_cliente \u001b[38;5;241m=\u001b[39m \u001b[38;5;28mint\u001b[39m(\u001b[38;5;28minput\u001b[39m(\u001b[38;5;124m\"\u001b[39m\u001b[38;5;124m¿Indique las unidades que quiere comprar?\u001b[39m\u001b[38;5;124m\"\u001b[39m))\n\u001b[0;32m    125\u001b[0m     \u001b[38;5;28;01mif\u001b[39;00m productos[\u001b[38;5;124m\"\u001b[39m\u001b[38;5;124mcantidad\u001b[39m\u001b[38;5;124m\"\u001b[39m] \u001b[38;5;241m<\u001b[39m\u001b[38;5;241m=\u001b[39m \u001b[38;5;241m0\u001b[39m :\n\u001b[0;32m    126\u001b[0m         \u001b[38;5;28mprint\u001b[39m(\u001b[38;5;124mf\u001b[39m\u001b[38;5;124m\"\u001b[39m\u001b[38;5;124mLo sentimos, no tenemos Stock del producto seleccionado\u001b[39m\u001b[38;5;124m\"\u001b[39m)\n",
      "\u001b[1;31mValueError\u001b[0m: invalid literal for int() with base 10: 'pantalones'"
     ]
    }
   ],
   "source": [
    "mi_tienda.realizar_compra()"
   ]
  },
  {
   "cell_type": "code",
   "execution_count": null,
   "metadata": {},
   "outputs": [
    {
     "name": "stdout",
     "output_type": "stream",
     "text": [
      "Nombre: Camisa, Precio: $50, Cantidad: 10\n",
      "El producto Camisa no se encuentra en el inventario\n"
     ]
    }
   ],
   "source": [
    "mi_tienda.buscar_producto(\"camisa\")"
   ]
  },
  {
   "cell_type": "code",
   "execution_count": null,
   "metadata": {},
   "outputs": [],
   "source": [
    "inventario = [{'nombre':'Camisa','precio':20,'cantidad':40}] #,{'nombre':'Pantalón','precio':30,'cantidad':30}\n",
    "clientes = {'Cliente1': {'email':'cliente1@email.com','compras': []}} #,'Cliente2': {'email':'cliente2@email.com','compras': []}}"
   ]
  }
 ],
 "metadata": {
  "kernelspec": {
   "display_name": "base",
   "language": "python",
   "name": "python3"
  },
  "language_info": {
   "codemirror_mode": {
    "name": "ipython",
    "version": 3
   },
   "file_extension": ".py",
   "mimetype": "text/x-python",
   "name": "python",
   "nbconvert_exporter": "python",
   "pygments_lexer": "ipython3",
   "version": "3.11.7"
  }
 },
 "nbformat": 4,
 "nbformat_minor": 2
}
