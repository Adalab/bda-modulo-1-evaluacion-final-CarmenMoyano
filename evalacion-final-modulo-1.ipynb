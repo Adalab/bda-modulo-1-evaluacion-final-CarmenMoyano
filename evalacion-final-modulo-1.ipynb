{
 "cells": [
  {
   "cell_type": "code",
   "execution_count": 716,
   "metadata": {},
   "outputs": [],
   "source": [
    "# Crear la clase\n",
    "class TiendaOnline:\n",
    "# Constructor con los atributos: inventario (lista), cliente (dicionario).\n",
    "    def __init__(self):\n",
    "        self.inventario = [] # [{nombre: --- , precio: ---, cantidad: ---}, {nombre2: --- , precio2: ---, cantidad2: ---}]\n",
    "        self.clientes = {} # {nombre1: { email:---, compras: []}, nombre2: { email:---, compras: [] }}\n",
    "        self.ventas_totales = 0 \n",
    "\n",
    "# Métodos  prueba\n",
    "# Método agregar producto\n",
    "    def agregar_productos (self, nombre, precio, cantidad):           \n",
    "        # Recorre la lista del inventario y compara los nombres de los productos con el nombre proporcionado\n",
    "        for productos in self.inventario:\n",
    "            # Si el producto ya existe, actualiza la cantidad\n",
    "            if nombre.lower() == productos[\"nombre\"]:                                     \n",
    "                productos[\"precio\"] = precio\n",
    "                productos[\"cantidad\"] = cantidad\n",
    "                # Imprime y sale del bucle                \n",
    "                print(f\"El producto ya estaba en el inventario. Sus datos han sido actualizados:\\nNombre: {nombre.capitalize()}, Precio: ${precio}, Cantidad: {cantidad}\")\n",
    "                return\n",
    "        # Si no existe, se agrega un nuevo producto al inventario  \n",
    "        self.inventario.append({\"nombre\": nombre.lower(), \"precio\": precio, \"cantidad\": cantidad})\n",
    "        print(f\"El producto se ha añadido correctamente:\\nNombre: {nombre.capitalize()}, Precio: ${precio}, Cantidad {cantidad}\")                  \n",
    "    \n",
    "\n",
    "# Métodos ver inventario              \n",
    "    def ver_inventario (self):    \n",
    "        # Recorre el inventario\n",
    "        for productos in self.inventario:\n",
    "            # Coge los valores del producto\n",
    "            nombre = productos.get(\"nombre\")\n",
    "            precio = productos.get(\"precio\")\n",
    "            cantidad = productos.get(\"cantidad\")\n",
    "            # Imprime los detalles                \n",
    "            print(f\"Nombre: {nombre.capitalize()}, Precio: ${precio}, Cantidad: {cantidad}\")\n",
    "\n",
    "        \n",
    "# Métodos buscar producto\n",
    "    def buscar_producto(self, nombre):       \n",
    "        # Recorre el inventario\n",
    "        for productos in self.inventario:\n",
    "            # Compara los nombres de los productos con el nombre proporcionado\n",
    "            if productos[\"nombre\"] == nombre.lower():\n",
    "                # Si se encuentra el producto, imprime sus detalles\n",
    "                precio = productos.get(\"precio\")\n",
    "                cantidad = productos.get(\"cantidad\")\n",
    "                print(f\"Nombre: {nombre.capitalize()}, Precio: ${precio}, Cantidad: {cantidad}\")\n",
    "                return                                  \n",
    "        # El producto no esta en el inventario\n",
    "        print(f\"El producto {nombre.capitalize()} no se encuentra en el inventario\")\n",
    "\n",
    "\n",
    "# Método actualizar stock\n",
    "    def actualizar_stock(self, nombre, cantidad):\n",
    "        encontrado = False\n",
    "        # Recorre el inventario\n",
    "        for productos in self.inventario:\n",
    "            # Busca el producto por nombre\n",
    "            if nombre.lower() == productos.get(\"nombre\"):\n",
    "                encontrado = True\n",
    "                # Agrega cantidad\n",
    "                if cantidad > 0:            \n",
    "                    productos[\"cantidad\"] += cantidad\n",
    "                    cantidad_actual = productos[\"cantidad\"]\n",
    "                    print(f\"Se han añadido {cantidad} unidades al stock. Datos actualizados:\\nNombre: {nombre.capitalize()}, Cantidad: {cantidad_actual}\")\n",
    "                    break\n",
    "                # Quita cantidad\n",
    "                elif cantidad < 0:\n",
    "                    productos[\"cantidad\"] += cantidad\n",
    "                    cantidad_actual = productos[\"cantidad\"]\n",
    "                    print(f\"Se han quitado unidades {cantidad} al stock. Datos actualizados:\\nNombre: {nombre.capitalize()}, Cantidad: {cantidad_actual}\")\n",
    "                    break\n",
    "                # Si es 0\n",
    "                else:\n",
    "                    print(f\"Has introducido la misma cantidad. No se han efectuado cambios en el stock.Los datos son:\\nNombre: {nombre.capitalize()}, Cantidad: {cantidad_actual}\")\n",
    "                    break           \n",
    "        # El producto no esta en el inventario\n",
    "        if not encontrado:\n",
    "            print(f\"El producto no esta en el inventario\")\n",
    "\n",
    "# Método eliminar producto\n",
    "    def eliminar_producto (self, nombre):\n",
    "        encontrado = False\n",
    "        # Recorre el inventario\n",
    "        for productos in self.inventario:\n",
    "            # Busca el producto por nombre\n",
    "            if nombre.lower() == productos.get(\"nombre\"):\n",
    "                encontrado = True\n",
    "                # Elimina el producto del inventario\n",
    "                self.inventario.remove(productos)\n",
    "                print(f\"El producto {nombre.capitalize()}, se ha eliminado con exito\")\n",
    "                break\n",
    "        # El producto no esta en el inventario\n",
    "        if not encontrado:\n",
    "            print(f\"El producto {nombre} no se encuentra en el stock\")\n",
    "\n",
    "# Método calcular valor:\n",
    "    def calcular_valor_inventario (self):       \n",
    "        valor_total_inventario = []\n",
    "        # Recorre el inventario\n",
    "        if self.inventario != []:\n",
    "            for producto in self.inventario:                           \n",
    "                precio = producto[\"precio\"]\n",
    "                cantidad = producto[\"cantidad\"]\n",
    "                # Calcula el valor de cada producto\n",
    "                resultado = precio * cantidad\n",
    "                valor_total_inventario.append(resultado)\n",
    "            # Suma los valores de todos producto\n",
    "        total = sum(valor_total_inventario)\n",
    "        print(f\"El valor total del inventario es {total}\")\n",
    "        \n",
    "# Método realizar compra\n",
    "    def realizar_compra(self):\n",
    "        self.cesta_compra = []\n",
    "        # Muestra el inventario\n",
    "        TiendaOnline.ver_inventario(self)\n",
    "        # Permite al cliente realizar múltiples compras        \n",
    "        while True:      \n",
    "            producto_cliente = input(\"¿Que producto quiere comprar? Para Finalizar pulse S \").lower()\n",
    "            # Sale del proceso de compra\n",
    "            if producto_cliente == \"s\":\n",
    "                break\n",
    "            cantidad_cliente = int(input(\"¿Indique las unidades que quiere comprar?\"))\n",
    "            \n",
    "            producto_encontrado = False             \n",
    "            for productos in self.inventario:     \n",
    "                stock_disponible = productos[\"cantidad\"]            \n",
    "                # Comprueba que tengamos el producto\n",
    "                if  productos[\"nombre\"] == producto_cliente.lower() and stock_disponible > cantidad_cliente: \n",
    "                    producto_encontrado = True \n",
    "                    producto = productos[\"nombre\"]  \n",
    "                    precio = productos[\"precio\"]                             \n",
    "                    total = productos[\"precio\"] * cantidad_cliente\n",
    "                    self.cesta_compra.append({\"nombre\": producto.capitalize(),\"precio\": productos[\"precio\"], \"cantidad\": cantidad_cliente, \"total\": total})\n",
    "                    productos[\"cantidad\"] -= cantidad_cliente     \n",
    "                    print(f\"Has añadido {cantidad_cliente} unidades del producto {producto_cliente.capitalize()} al carrito de la compra\") \n",
    "                    break\n",
    "                break            \n",
    "\n",
    "            # # El producto no esta en el inventario o no hay stock suficiente   \n",
    "            if not producto_encontrado:\n",
    "                print(f\"El producto no esta en el inventario o no tenemos stock suficiente\")                \n",
    "            \n",
    "        # Si sale del proceso pero hay productos en la cesta    \n",
    "        if self.cesta_compra:\n",
    "            total = sum(producto[\"total\"] for producto in self.cesta_compra)\n",
    "            # Saca la información del carrito\n",
    "            for producto in self.cesta_compra:\n",
    "                nombre = producto[\"nombre\"]\n",
    "                precio = producto[\"precio\"]\n",
    "                cantidad = producto[\"cantidad\"]\n",
    "                total_prod = producto[\"total\"]                          \n",
    "                print(f\"Nombre {nombre}, precio/ud ${precio}, cantidad {cantidad} precio total ${total_prod}\\nTotal de la compra ${total}\")\n",
    "            print(f\"Total de la compra {total}\")\n",
    "        \n",
    "        # Si sale del proceso pero no hay productos en la cesta                  \n",
    "        else:            \n",
    "            print(f\"No tiene productos en el carrito\")\n",
    "            \n",
    "        print(f\"Gracias y hasta pronto\")\n",
    "            \n",
    "# Procesar pago\n",
    "    def procesar_pago(self):     \n",
    "        total = sum(producto[\"total\"] for producto in self.cesta_compra)\n",
    "        print(f\"El total de su compra es {total}\")\n",
    "        while True:\n",
    "            cantidad = int(input(\"Introduce la cantidad\"))\n",
    "            if total == cantidad:\n",
    "                print(f\"Cantidad exacta. Gracias por su compra, esperamos verle pronto\")\n",
    "                break\n",
    "            elif total < cantidad:\n",
    "                vuelta = cantidad - total\n",
    "                print(f\"Cantidad correcta su vuelta es de ${vuelta}. Gracias por su compra, esperamos verle pronto\")\n",
    "                break\n",
    "            else:\n",
    "                print(f\"Cantidad insuficiente, debe de introducir mas dinero\")        \n",
    "\n",
    "# Agregar cliente      \n",
    "    def agregar_cliente(self, nombre, email):\n",
    "        # Agrega un cliente al diccionario de clientes con su nombre y correo electrónico.\n",
    "        self.clientes[nombre.lower()] = ({\"email\": email, \"compras\": []})\n",
    "        print(f\"El cliente {nombre.capitalize()} con email {email} se ha añadido correctamente\")\n",
    "\n",
    "# Ver clientes \n",
    "    def ver_clientes(self):\n",
    "        # Recorre la base de datos de clientes\n",
    "        for nombre, datos in self.clientes.items():             \n",
    "            email = datos[\"email\"]  \n",
    "            # Imprime los detalles de cada cliente (nombre y correo electrónico).         \n",
    "            print(f\"Nombre: {nombre.capitalize()}, Email: {email}\")\n",
    "\n",
    "# Registrar compras\n",
    "    def registrar_compra(self, nombre_cliente, carrito):        \n",
    "        # Busca al cliente en el diccionario de clientes   \n",
    "        if nombre_cliente.lower() not in self.clientes:  \n",
    "            # muestra que no se puede realizar la acción por que el cliente no está      \n",
    "            print(f\"No se puede realizar la acción, {nombre_cliente} no figura como cliente\")  \n",
    "            return \n",
    "        # Recorre el carrito        \n",
    "        compra = [compras[\"precio\"] * compras[\"cantidad\"] for compras in carrito.values() ]\n",
    "        # Calcula el total de la compra y registra la compra, incluyendo los productos y el total.\n",
    "        total_compra = sum(compra)\n",
    "        # Añade la info del carrito a las compras del cliente \n",
    "        self.clientes[nombre_cliente][\"compras\"].append({\"carrito\": carrito, \"total\": total_compra})\n",
    "        # Actualiza las ventas totales\n",
    "        self.ventas_totales += total_compra\n",
    "        print(f\"La compra del cliente {nombre_cliente} con importe total de ${total_compra} se ha efectuado correctamente\")\n",
    "\n",
    "# Ver Compras\n",
    "    def ver_compras_cliente(self, nombre_cliente):        \n",
    "        if nombre_cliente.lower() not in self.clientes:\n",
    "            return (f\"El cliente no esta en nuestra base de datos\")\n",
    "        else:\n",
    "            for cliente in self.clientes:                \n",
    "                if cliente == nombre_cliente:\n",
    "                    email = cliente[\"nombre\"][\"email\"] \n",
    "                    compra = cliente [\"nombre\"][\"compras\"]\n",
    "                    productos = cliente[\"nombre\"][\"compras\"][\"nombre\"]\n",
    "                    cantidades = cliente[\"nombre\"][\"compras\"][\"cantidades\"]\n",
    "                    precio = cliente[\"nombre\"][\"compras\"][\"precio\"]\n",
    "                    total = cliente[\"nombre\"][\"compras\"][\"total\"]                    \n",
    "                    print(f\"{cliente}{email}{compra}{productos}{cantidades}{precio}{total}\")\n",
    "\n",
    "\n",
    "\n",
    "#{'cliente2': {'email': 'cliente1@gmail.com',\n",
    "#   'compras': [{'carrito': {'Camisa': {'precio': 20, 'cantidad': 3}},\n",
    "#     'total': 60}]}}\n",
    "        \n",
    "\n",
    "# # Muestra las ventas totales \n",
    "#     def calcular_ventas_totales(self):\n",
    "\n",
    "                                                \n"
   ]
  },
  {
   "cell_type": "code",
   "execution_count": 717,
   "metadata": {},
   "outputs": [
    {
     "name": "stdout",
     "output_type": "stream",
     "text": [
      "--agregamos productos--\n",
      "El producto se ha añadido correctamente:\n",
      "Nombre: Camisa, Precio: $20, Cantidad 50\n",
      "El producto se ha añadido correctamente:\n",
      "Nombre: Pantalon, Precio: $30, Cantidad 30\n",
      "El producto se ha añadido correctamente:\n",
      "Nombre: Zapatos, Precio: $50, Cantidad 40\n",
      "--vemos el inventario--\n",
      "Nombre: Camisa, Precio: $20, Cantidad: 50\n",
      "Nombre: Pantalon, Precio: $30, Cantidad: 30\n",
      "Nombre: Zapatos, Precio: $50, Cantidad: 40\n",
      "--buscamos un producto que exite y uno que no--\n",
      "Nombre: Zapatos, Precio: $50, Cantidad: 40\n",
      "El producto Calcetines no se encuentra en el inventario\n",
      "--actualizamos el stock de un producto (en positivo y en negativo) que existe uno que no--\n",
      "Se han añadido 5 unidades al stock. Datos actualizados:\n",
      "Nombre: Pantalon, Cantidad: 35\n",
      "Se han quitado unidades -10 al stock. Datos actualizados:\n",
      "Nombre: Camisa, Cantidad: 40\n",
      "El producto no esta en el inventario\n",
      "--eliminamos un producto uno que existe uno que no--\n",
      "El producto Camisa, se ha eliminado con exito\n",
      "El producto Calcetines no se encuentra en el stock\n",
      "--valor inventario--\n",
      "El valor total del inventario es 3050\n",
      "--REALIZAR COMPRA--\n",
      "--PROCESAR PAGO--\n",
      "--AGREGAR CLIENTE Y SI YA EXISTE--\n",
      "El cliente Cliente1 con email cliente1@gmail.com se ha añadido correctamente\n",
      "El cliente Cliente2 con email cliente2@gmail.com se ha añadido correctamente\n",
      "--VER CLIENTE--\n",
      "Nombre: Cliente1, Email: cliente1@gmail.com\n",
      "Nombre: Cliente2, Email: cliente2@gmail.com\n"
     ]
    }
   ],
   "source": [
    "mi_tienda = TiendaOnline ()\n",
    "print(\"--agregamos productos--\")\n",
    "mi_tienda.agregar_productos(\"Camisa\", 20, 50)\n",
    "mi_tienda.agregar_productos(\"Pantalon\", 30,30)\n",
    "mi_tienda.agregar_productos(\"Zapatos\", 50,40)\n",
    "print(\"--vemos el inventario--\")\n",
    "mi_tienda.ver_inventario()\n",
    "print(\"--buscamos un producto que exite y uno que no--\")\n",
    "mi_tienda.buscar_producto(\"Zapatos\")\n",
    "mi_tienda.buscar_producto(\"Calcetines\")\n",
    "print(\"--actualizamos el stock de un producto (en positivo y en negativo) que existe uno que no--\")\n",
    "mi_tienda.actualizar_stock(\"Pantalon\", 5)\n",
    "mi_tienda.actualizar_stock(\"Camisa\", -10)\n",
    "mi_tienda.actualizar_stock(\"Calcetines\", 2)\n",
    "print(\"--eliminamos un producto uno que existe uno que no--\")\n",
    "mi_tienda.eliminar_producto(\"Camisa\")\n",
    "mi_tienda.eliminar_producto(\"Calcetines\")\n",
    "print(\"--valor inventario--\")\n",
    "mi_tienda.calcular_valor_inventario()\n",
    "print(\"--REALIZAR COMPRA--\")\n",
    "# mi_tienda.realizar_compra()\n",
    "print(\"--PROCESAR PAGO--\")\n",
    "# mi_tienda.procesar_pago()\n",
    "print(\"--AGREGAR CLIENTE Y SI YA EXISTE--\")\n",
    "mi_tienda.agregar_cliente(\"cliente1\" , \"cliente1@gmail.com\")\n",
    "mi_tienda.agregar_cliente(\"cliente2\" , \"cliente2@gmail.com\")\n",
    "print(\"--VER CLIENTE--\")\n",
    "mi_tienda.ver_clientes()\n",
    "print(\"--VER CLIENTE--\")\n"
   ]
  },
  {
   "cell_type": "code",
   "execution_count": 718,
   "metadata": {},
   "outputs": [
    {
     "data": {
      "text/plain": [
       "{'inventario': [{'nombre': 'pantalon', 'precio': 30, 'cantidad': 35},\n",
       "  {'nombre': 'zapatos', 'precio': 50, 'cantidad': 40}],\n",
       " 'clientes': {'cliente1': {'email': 'cliente1@gmail.com', 'compras': []},\n",
       "  'cliente2': {'email': 'cliente2@gmail.com', 'compras': []}},\n",
       " 'ventas_totales': 0}"
      ]
     },
     "execution_count": 718,
     "metadata": {},
     "output_type": "execute_result"
    }
   ],
   "source": [
    "mi_tienda.__dict__"
   ]
  },
  {
   "cell_type": "code",
   "execution_count": null,
   "metadata": {},
   "outputs": [],
   "source": []
  },
  {
   "cell_type": "code",
   "execution_count": 719,
   "metadata": {},
   "outputs": [],
   "source": [
    "carrito_cliente2 = {\"Camisa\": {\"precio\": 20, \"cantidad\": 3}}"
   ]
  },
  {
   "cell_type": "code",
   "execution_count": 720,
   "metadata": {},
   "outputs": [
    {
     "ename": "TypeError",
     "evalue": "string indices must be integers, not 'str'",
     "output_type": "error",
     "traceback": [
      "\u001b[1;31m---------------------------------------------------------------------------\u001b[0m",
      "\u001b[1;31mTypeError\u001b[0m                                 Traceback (most recent call last)",
      "Cell \u001b[1;32mIn[720], line 1\u001b[0m\n\u001b[1;32m----> 1\u001b[0m mi_tienda\u001b[38;5;241m.\u001b[39mver_compras_cliente(\u001b[38;5;124m\"\u001b[39m\u001b[38;5;124mcliente2\u001b[39m\u001b[38;5;124m\"\u001b[39m)\n",
      "Cell \u001b[1;32mIn[716], line 216\u001b[0m, in \u001b[0;36mTiendaOnline.ver_compras_cliente\u001b[1;34m(self, nombre_cliente)\u001b[0m\n\u001b[0;32m    214\u001b[0m \u001b[38;5;28;01mfor\u001b[39;00m cliente \u001b[38;5;129;01min\u001b[39;00m \u001b[38;5;28mself\u001b[39m\u001b[38;5;241m.\u001b[39mclientes:                \n\u001b[0;32m    215\u001b[0m     \u001b[38;5;28;01mif\u001b[39;00m cliente \u001b[38;5;241m==\u001b[39m nombre_cliente:\n\u001b[1;32m--> 216\u001b[0m         email \u001b[38;5;241m=\u001b[39m cliente[\u001b[38;5;124m\"\u001b[39m\u001b[38;5;124mnombre\u001b[39m\u001b[38;5;124m\"\u001b[39m][\u001b[38;5;124m\"\u001b[39m\u001b[38;5;124memail\u001b[39m\u001b[38;5;124m\"\u001b[39m] \n\u001b[0;32m    217\u001b[0m         compra \u001b[38;5;241m=\u001b[39m cliente [\u001b[38;5;124m\"\u001b[39m\u001b[38;5;124mnombre\u001b[39m\u001b[38;5;124m\"\u001b[39m][\u001b[38;5;124m\"\u001b[39m\u001b[38;5;124mcompras\u001b[39m\u001b[38;5;124m\"\u001b[39m]\n\u001b[0;32m    218\u001b[0m         productos \u001b[38;5;241m=\u001b[39m cliente[\u001b[38;5;124m\"\u001b[39m\u001b[38;5;124mnombre\u001b[39m\u001b[38;5;124m\"\u001b[39m][\u001b[38;5;124m\"\u001b[39m\u001b[38;5;124mcompras\u001b[39m\u001b[38;5;124m\"\u001b[39m][\u001b[38;5;124m\"\u001b[39m\u001b[38;5;124mnombre\u001b[39m\u001b[38;5;124m\"\u001b[39m]\n",
      "\u001b[1;31mTypeError\u001b[0m: string indices must be integers, not 'str'"
     ]
    }
   ],
   "source": [
    "mi_tienda.ver_compras_cliente(\"cliente2\")"
   ]
  },
  {
   "cell_type": "code",
   "execution_count": null,
   "metadata": {},
   "outputs": [
    {
     "data": {
      "text/plain": [
       "{'inventario': [{'nombre': 'pantalones', 'precio': 50, 'cantidad': 54},\n",
       "  {'nombre': 'camisa', 'precio': 50, 'cantidad': 10}],\n",
       " 'clientes': {'cliente2': {'email': 'cliente1@gmail.com', 'compras': []}},\n",
       " 'ventas_totales': 0,\n",
       " 'cesta_compra': [{'nombre': 'Pantalones',\n",
       "   'precio': 50,\n",
       "   'cantidad': 1,\n",
       "   'total': 50}]}"
      ]
     },
     "execution_count": 541,
     "metadata": {},
     "output_type": "execute_result"
    }
   ],
   "source": [
    "mi_tienda.__dict__"
   ]
  },
  {
   "cell_type": "code",
   "execution_count": null,
   "metadata": {},
   "outputs": [
    {
     "name": "stdout",
     "output_type": "stream",
     "text": [
      "No se puede realizar la acción, cliente1 no figura como cliente\n"
     ]
    }
   ],
   "source": [
    "mi_tienda.registrar_compra(\"cliente1\", carrito_cliente2)"
   ]
  },
  {
   "cell_type": "code",
   "execution_count": null,
   "metadata": {},
   "outputs": [
    {
     "data": {
      "text/plain": [
       "{'cliente2': {'email': 'cliente1@gmail.com', 'compras': []}}"
      ]
     },
     "execution_count": 533,
     "metadata": {},
     "output_type": "execute_result"
    }
   ],
   "source": [
    "mi_tienda.clientes"
   ]
  },
  {
   "cell_type": "code",
   "execution_count": null,
   "metadata": {},
   "outputs": [
    {
     "name": "stdout",
     "output_type": "stream",
     "text": [
      "Se han quitado unidades -50 al stock. Datos actualizados:\n",
      "Nombre: Pantalones, Cantidad: -50\n"
     ]
    }
   ],
   "source": [
    "mi_tienda.actualizar_stock(\"pantalones\" , -50)"
   ]
  },
  {
   "cell_type": "code",
   "execution_count": null,
   "metadata": {},
   "outputs": [
    {
     "name": "stdout",
     "output_type": "stream",
     "text": [
      "El producto se ha añadido correctamente:\n",
      "Nombre: Pantalones, Precio: $50, Cantidad 5\n",
      "El producto se ha añadido correctamente:\n",
      "Nombre: Camisa, Precio: $50, Cantidad 10\n"
     ]
    }
   ],
   "source": [
    "mi_tienda.agregar_productos(\"pantalones\", 50, 5)\n",
    "mi_tienda.agregar_productos(\"camisa\", 50,10)"
   ]
  },
  {
   "cell_type": "code",
   "execution_count": null,
   "metadata": {},
   "outputs": [
    {
     "name": "stdout",
     "output_type": "stream",
     "text": [
      "Nombre: Pantalones, Precio: $50, Cantidad: 55\n",
      "Nombre: Camisa, Precio: $50, Cantidad: 10\n"
     ]
    }
   ],
   "source": [
    "mi_tienda.ver_inventario()"
   ]
  },
  {
   "cell_type": "code",
   "execution_count": null,
   "metadata": {},
   "outputs": [
    {
     "name": "stdout",
     "output_type": "stream",
     "text": [
      "Nombre: Pantalones, Precio: $50, Cantidad: 55\n",
      "Nombre: Camisa, Precio: $50, Cantidad: 10\n",
      "Has añadido 1 unidades del producto Pantalones al carrito de la compra\n",
      "Nombre Pantalones, precio/ud $50, cantidad 1 precio total $50\n",
      "Total de la compra $50\n",
      "Total de la compra 50\n",
      "gracias y hasta pronto\n"
     ]
    }
   ],
   "source": [
    "mi_tienda.realizar_compra()"
   ]
  },
  {
   "cell_type": "code",
   "execution_count": null,
   "metadata": {},
   "outputs": [
    {
     "name": "stdout",
     "output_type": "stream",
     "text": [
      "El total de su compra es 50\n",
      "Cantidad exacta. Gracias por su compra, esperamos verle pronto\n"
     ]
    }
   ],
   "source": [
    "mi_tienda.procesar_pago()"
   ]
  },
  {
   "cell_type": "code",
   "execution_count": null,
   "metadata": {},
   "outputs": [
    {
     "name": "stdout",
     "output_type": "stream",
     "text": [
      "Nombre: Camisa, Precio: $50, Cantidad: 10\n",
      "El producto Camisa no se encuentra en el inventario\n"
     ]
    }
   ],
   "source": [
    "mi_tienda.buscar_producto(\"camisa\")"
   ]
  },
  {
   "cell_type": "code",
   "execution_count": null,
   "metadata": {},
   "outputs": [],
   "source": [
    "inventario = [{'nombre':'Camisa','precio':20,'cantidad':40}] #,{'nombre':'Pantalón','precio':30,'cantidad':30}\n",
    "clientes = {'Cliente1': {'email':'cliente1@email.com','compras': []}} #,'Cliente2': {'email':'cliente2@email.com','compras': []}}"
   ]
  }
 ],
 "metadata": {
  "kernelspec": {
   "display_name": "base",
   "language": "python",
   "name": "python3"
  },
  "language_info": {
   "codemirror_mode": {
    "name": "ipython",
    "version": 3
   },
   "file_extension": ".py",
   "mimetype": "text/x-python",
   "name": "python",
   "nbconvert_exporter": "python",
   "pygments_lexer": "ipython3",
   "version": "3.11.7"
  }
 },
 "nbformat": 4,
 "nbformat_minor": 2
}
