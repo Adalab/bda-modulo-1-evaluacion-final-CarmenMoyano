{
 "cells": [
  {
   "cell_type": "code",
   "execution_count": 1,
   "metadata": {},
   "outputs": [],
   "source": [
    "# Crear la clase\n",
    "class TiendaOnline:\n",
    "# Constructor con los atributos: inventario (lista), cliente (dicionario).\n",
    "    def __init__(self):\n",
    "        self.inventario = [] # [{nombre: --- , precio: ---, cantidad: ---}, {nombre2: --- , precio2: ---, cantidad2: ---}]\n",
    "        self.clientes = {} # {nombre1: {--- , email:---, compras: []}, nombre2: {--- , email:---, compras: [] }}\n",
    "        self.ventas_totales = 0 \n",
    "\n",
    "# Métodos  prueba\n",
    "# Método agregar producto\n",
    "    def agregar_productos (self, nombre, precio, cantidad):           \n",
    "        # Recorre la lista del inventario y compara los nombres de los productos con el nombre proporcionado\n",
    "        for productos in self.inventario:\n",
    "            # Si el producto ya existe, actualiza la cantidad\n",
    "            if nombre.lower() == productos[\"nombre\"]:                                     \n",
    "                productos[\"precio\"] = precio\n",
    "                productos[\"cantidad\"] = cantidad\n",
    "                # Imprime y sale del bucle                \n",
    "                print(f\"El producto ya estaba en el inventario. Sus datos han sido actualizados:\\nNombre: {nombre.capitalize()}, Precio: ${precio}, Cantidad: {cantidad}\")\n",
    "                break\n",
    "        # Si no existe, se agrega un nuevo producto al inventario  \n",
    "        self.inventario.append({\"nombre\": nombre.lower(), \"precio\": precio, \"cantidad\": cantidad})\n",
    "        print(f\"El producto se ha añadido correctamente:\\nNombre: {nombre.capitalize()}, Precio: ${precio}, Cantidad {cantidad}\")                  \n",
    "    \n",
    "\n",
    "# Métodos ver inventario              \n",
    "    def ver_inventario (self):    \n",
    "        # Recorre el inventario\n",
    "        for productos in self.inventario:\n",
    "            # Coge los valores del producto\n",
    "            nombre = productos.get(\"nombre\")\n",
    "            precio = productos.get(\"precio\" )\n",
    "            cantidad = productos.get(\"cantidad\")\n",
    "            # Imprime los detalles                \n",
    "            print(f\"Nombre: {nombre.capitalize()}, Precio: ${precio}, Cantidad: {cantidad}\")\n",
    "\n",
    "        \n",
    "# Métodos buscar producto\n",
    "    def buscar_producto(self, nombre):       \n",
    "        # Recorre el inventario\n",
    "        for productos in self.inventario:\n",
    "            # Compara los nombres de los productos con el nombre proporcionado\n",
    "            if productos[\"nombre\"] == nombre.lower():\n",
    "                # Si se encuentra el producto, imprime sus detalles\n",
    "                precio = productos.get(\"precio\")\n",
    "                cantidad = productos.get(\"cantidad\")\n",
    "                print(f\"Nombre: {nombre.capitalize()}, Precio: ${precio}, Cantidad: {cantidad}\")\n",
    "                break                                   \n",
    "        # El producto no esta en el inventario\n",
    "        print(f\"El producto {nombre.capitalize()} no se encuentra en el inventario\")\n",
    "\n",
    "\n",
    "# Método actualizar stock\n",
    "    def actualizar_stock(self, nombre, cantidad):\n",
    "        # Recorre el inventario\n",
    "        for productos in self.inventario:\n",
    "            # Busca el producto por nombre\n",
    "            if nombre.lower() == productos.get(\"nombre\"):\n",
    "                # Agrega cantidad\n",
    "                if cantidad > 0:            \n",
    "                    productos[\"cantidad\"] = productos[\"cantidad\"] + cantidad\n",
    "                    print(f\"Se han añadido {cantidad} unidades al stock. Datos actualizados:\\nNombre: {nombre.capitalize()}, Cantidad: {cantidad}\")\n",
    "                    break\n",
    "                # Quita cantidad\n",
    "                elif cantidad < 0:\n",
    "                    productos[\"cantidad\"] = productos[\"cantidad\"] - cantidad\n",
    "                    print(f\"Se han quitado unidades {cantidad} al stock. Datos actualizados:\\nNombre: {nombre.capitalize()}, Cantidad: {cantidad}\")\n",
    "                    break\n",
    "                # Si es 0\n",
    "                else:\n",
    "                    print(f\"Has introducido {cantidad}. No se han efectuado cambios en el stock.Los datos son:\\nNombre: {nombre.capitalize()}, Cantidad: {cantidad}\")\n",
    "                    break           \n",
    "        # El producto no esta en el inventario\n",
    "        print(f\"El producto no esta en el inventario\")\n",
    "\n",
    "# Método eliminar producto\n",
    "    def eliminar_producto (self, nombre):\n",
    "        # Recorre el inventario\n",
    "        for productos in self.inventario:\n",
    "            # Busca el producto por nombre\n",
    "            if nombre.lower() == productos.get(\"nombre\"):\n",
    "                # Elimina el producto del inventario\n",
    "                productos.clear()\n",
    "                print(f\"El producto {nombre.capitalize()}, se ha eliminado con exito\")\n",
    "                break\n",
    "        # El producto no esta en el inventario\n",
    "        print(f\"El producto no se encuentra en el stock\")\n",
    "\n",
    "# Método calcular valor:\n",
    "    def calcular_valor_inventario (self):       \n",
    "        valor_total_inventario = []\n",
    "        # Recorre el inventario\n",
    "        for productos in self.inventario:            \n",
    "            precio = productos.get(\"precio\")\n",
    "            cantidad = productos.get(\"cantidad\")\n",
    "            # Calcula el valor de cada producto\n",
    "            resultado = precio * cantidad\n",
    "            valor_total_inventario.append(resultado)\n",
    "        # Suma los valores de todos producto\n",
    "        total = sum(valor_total_inventario)\n",
    "        print(f\"el total es {total}\")\n",
    "     \n",
    "\n",
    "# Método realizar compra\n",
    "    def realizar_compra(self):\n",
    "        cesta_compra = []\n",
    "        # Muestra el inventario\n",
    "        print(self.inventario)\n",
    "        # Permite al cliente realizar múltiples compras        \n",
    "        while True:      \n",
    "            producto_cliente = input(\"¿Que producto quiere comprar? Para salir pulse S \").lower()\n",
    "            if producto_cliente != \"s\":\n",
    "                # Recorre el inventario\n",
    "                for productos in self.inventario:\n",
    "                    # Comprueba que tengamos el producto\n",
    "                    if producto_cliente.lower() == productos[\"nombre\"]:                        \n",
    "                        nombre = productos[\"nombre\"]\n",
    "                        precio = productos[\"precio\"]\n",
    "                        cantidad = productos[\"cantidad\"]                       \n",
    "                        cantidad_cliente = int(input(\"¿Indique las unidades que quiere comprar?\"))\n",
    "                        # Comprueba si tenemos stock                     \n",
    "                        if cantidad <= 0 :\n",
    "                            print(f\"Lo sentimos, no tenemos Stock del producto seleccionado {cantidad}\")\n",
    "                            break\n",
    "                        # Comprueba si tenemos suficiente stock. Registra los productos seleccionados en un carrito y actualiza el inventario\n",
    "                        elif cantidad >= cantidad_cliente:                                \n",
    "                            total = precio * cantidad_cliente\n",
    "                            cesta_compra.append({\"nombre\": nombre.capitalize(), \"precio\": precio, \"cantidad\": cantidad_cliente, \"total\": total})\n",
    "                            productos[\"cantidad\"] = productos[\"cantidad\"] - cantidad_cliente\n",
    "                            print(f\"Has añadido {cantidad_cliente} unidades del producto {producto_cliente.capitalize()} al carrito de la compra\\nEl total la compra es de $ {total}\")\n",
    "                            break   \n",
    "                        # Si no tenemos suficiente stock dice cuanto hay             \n",
    "                        elif cantidad_cliente > cantidad:                    \n",
    "                            print(f\"Lo sentimos, del producto seleccionado {producto_cliente.capitalize()} solo tenemos {cantidad} unidades\")\n",
    "                            break\n",
    "                        else:\n",
    "                            print(f\"La cantidad introducida no es correcta\")\n",
    "                            break\n",
    "                else:\n",
    "                    print(f\"El producto introducido no esta en el inventario, intenelo de nuevo\")\n",
    "                # permite al cliente seguir comprando o finalizar su compra\n",
    "                siguiente_paso = input(\"Si desea seguir comprando pulse 1, para finalizar su compra pulse 2: \")\n",
    "                #\n",
    "                if siguiente_paso == \"2\":\n",
    "                    for producto in cesta_compra:\n",
    "                        nombre = producto[\"nombre\"]\n",
    "                        precio = producto[\"precio\"]\n",
    "                        cantidad = producto[\"cantidad\"]\n",
    "                        total = sum(producto[\"total\"])\n",
    "                    \n",
    "                    print(f\"gracias por su compra. Su resumen es:\\n nombre {nombre}, precio/ud ${precio}, cantidad {cantidad} precio total {total}\")                    \n",
    "                    break\n",
    "                \n",
    "            else:\n",
    "                print(f\"gracias y hasta pronto\")\n",
    "                break\n",
    "               \n",
    "       \n",
    "                                        \n"
   ]
  },
  {
   "cell_type": "code",
   "execution_count": 2,
   "metadata": {},
   "outputs": [],
   "source": [
    "mi_tienda = TiendaOnline ()"
   ]
  },
  {
   "cell_type": "code",
   "execution_count": 3,
   "metadata": {},
   "outputs": [
    {
     "name": "stdout",
     "output_type": "stream",
     "text": [
      "El producto se ha añadido correctamente:\n",
      "Nombre: Pantalones, Precio: $50, Cantidad 5\n",
      "El producto se ha añadido correctamente:\n",
      "Nombre: Camisa, Precio: $50, Cantidad 10\n"
     ]
    }
   ],
   "source": [
    "mi_tienda.agregar_productos(\"pantalones\", 50, 5)\n",
    "mi_tienda.agregar_productos(\"camisa\", 50,10)"
   ]
  },
  {
   "cell_type": "code",
   "execution_count": 4,
   "metadata": {},
   "outputs": [
    {
     "name": "stdout",
     "output_type": "stream",
     "text": [
      "Nombre: Pantalones, Precio: $50, Cantidad: 5\n",
      "Nombre: Camisa, Precio: $50, Cantidad: 10\n"
     ]
    }
   ],
   "source": [
    "mi_tienda.ver_inventario()"
   ]
  },
  {
   "cell_type": "code",
   "execution_count": 5,
   "metadata": {},
   "outputs": [
    {
     "name": "stdout",
     "output_type": "stream",
     "text": [
      "[{'nombre': 'pantalones', 'precio': 50, 'cantidad': 5}, {'nombre': 'camisa', 'precio': 50, 'cantidad': 10}]\n",
      "Has añadido 1 unidades del producto Camisa al carrito de la compra\n",
      "El total la compra es de $ 50\n",
      "El producto introducido no esta en el inventario, intenelo de nuevo\n",
      "Has añadido 2 unidades del producto Pantalones al carrito de la compra\n",
      "El total la compra es de $ 100\n"
     ]
    },
    {
     "ename": "TypeError",
     "evalue": "'int' object is not iterable",
     "output_type": "error",
     "traceback": [
      "\u001b[1;31m---------------------------------------------------------------------------\u001b[0m",
      "\u001b[1;31mTypeError\u001b[0m                                 Traceback (most recent call last)",
      "Cell \u001b[1;32mIn[5], line 1\u001b[0m\n\u001b[1;32m----> 1\u001b[0m mi_tienda\u001b[38;5;241m.\u001b[39mrealizar_compra()\n",
      "Cell \u001b[1;32mIn[1], line 150\u001b[0m, in \u001b[0;36mTiendaOnline.realizar_compra\u001b[1;34m(self)\u001b[0m\n\u001b[0;32m    148\u001b[0m     precio \u001b[38;5;241m=\u001b[39m producto[\u001b[38;5;124m\"\u001b[39m\u001b[38;5;124mprecio\u001b[39m\u001b[38;5;124m\"\u001b[39m]\n\u001b[0;32m    149\u001b[0m     cantidad \u001b[38;5;241m=\u001b[39m producto[\u001b[38;5;124m\"\u001b[39m\u001b[38;5;124mcantidad\u001b[39m\u001b[38;5;124m\"\u001b[39m]\n\u001b[1;32m--> 150\u001b[0m     total \u001b[38;5;241m=\u001b[39m \u001b[38;5;28msum\u001b[39m(producto[\u001b[38;5;124m\"\u001b[39m\u001b[38;5;124mtotal\u001b[39m\u001b[38;5;124m\"\u001b[39m])\n\u001b[0;32m    152\u001b[0m \u001b[38;5;28mprint\u001b[39m(\u001b[38;5;124mf\u001b[39m\u001b[38;5;124m\"\u001b[39m\u001b[38;5;124mgracias por su compra. Su resumen es:\u001b[39m\u001b[38;5;130;01m\\n\u001b[39;00m\u001b[38;5;124m nombre \u001b[39m\u001b[38;5;132;01m{\u001b[39;00mnombre\u001b[38;5;132;01m}\u001b[39;00m\u001b[38;5;124m, precio/ud $\u001b[39m\u001b[38;5;132;01m{\u001b[39;00mprecio\u001b[38;5;132;01m}\u001b[39;00m\u001b[38;5;124m, cantidad \u001b[39m\u001b[38;5;132;01m{\u001b[39;00mcantidad\u001b[38;5;132;01m}\u001b[39;00m\u001b[38;5;124m precio total \u001b[39m\u001b[38;5;132;01m{\u001b[39;00mtotal\u001b[38;5;132;01m}\u001b[39;00m\u001b[38;5;124m\"\u001b[39m)                    \n\u001b[0;32m    153\u001b[0m \u001b[38;5;28;01mbreak\u001b[39;00m\n",
      "\u001b[1;31mTypeError\u001b[0m: 'int' object is not iterable"
     ]
    }
   ],
   "source": [
    "mi_tienda.realizar_compra()"
   ]
  },
  {
   "cell_type": "code",
   "execution_count": null,
   "metadata": {},
   "outputs": [
    {
     "name": "stdout",
     "output_type": "stream",
     "text": [
      "Nombre: Camisa, Precio: $50, Cantidad: 8\n",
      "El producto Camisa no se encuentra en el inventario\n"
     ]
    }
   ],
   "source": [
    "mi_tienda.buscar_producto(\"camisa\")"
   ]
  },
  {
   "cell_type": "code",
   "execution_count": null,
   "metadata": {},
   "outputs": [],
   "source": [
    "inventario = [{'nombre':'Camisa','precio':20,'cantidad':40}] #,{'nombre':'Pantalón','precio':30,'cantidad':30}\n",
    "clientes = {'Cliente1': {'email':'cliente1@email.com','compras': []}} #,'Cliente2': {'email':'cliente2@email.com','compras': []}}"
   ]
  }
 ],
 "metadata": {
  "kernelspec": {
   "display_name": "base",
   "language": "python",
   "name": "python3"
  },
  "language_info": {
   "codemirror_mode": {
    "name": "ipython",
    "version": 3
   },
   "file_extension": ".py",
   "mimetype": "text/x-python",
   "name": "python",
   "nbconvert_exporter": "python",
   "pygments_lexer": "ipython3",
   "version": "3.11.7"
  }
 },
 "nbformat": 4,
 "nbformat_minor": 2
}
